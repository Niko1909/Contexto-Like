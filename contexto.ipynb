{
  "cells": [
    {
      "cell_type": "markdown",
      "metadata": {
        "id": "view-in-github",
        "colab_type": "text"
      },
      "source": [
        "<a href=\"https://colab.research.google.com/github/Niko1909/Contexto-Like/blob/main/contexto.ipynb\" target=\"_parent\"><img src=\"https://colab.research.google.com/assets/colab-badge.svg\" alt=\"Open In Colab\"/></a>"
      ]
    },
    {
      "cell_type": "code",
      "execution_count": 3,
      "metadata": {
        "colab": {
          "base_uri": "https://localhost:8080/"
        },
        "id": "H19TSU5UgCZw",
        "outputId": "5e36cb14-cc76-4b7f-9029-47be6f5befc9"
      },
      "outputs": [
        {
          "output_type": "stream",
          "name": "stderr",
          "text": [
            "[nltk_data] Downloading package wordnet to /root/nltk_data...\n",
            "[nltk_data]   Package wordnet is already up-to-date!\n"
          ]
        },
        {
          "output_type": "execute_result",
          "data": {
            "text/plain": [
              "True"
            ]
          },
          "metadata": {},
          "execution_count": 3
        }
      ],
      "source": [
        "import string\n",
        "import numpy as np\n",
        "from numpy.linalg import norm\n",
        "from scipy import spatial\n",
        "import matplotlib.pyplot as plt\n",
        "from sklearn.manifold import TSNE\n",
        "import nltk\n",
        "from nltk.stem import WordNetLemmatizer as wnl\n",
        "nltk.download('wordnet')"
      ]
    },
    {
      "cell_type": "code",
      "execution_count": 4,
      "metadata": {
        "id": "iq4Jrti_h7U1"
      },
      "outputs": [],
      "source": [
        "data = open('/content/glove.6B.50d.txt', 'r') # 50-dim GloVe word vectors"
      ]
    },
    {
      "cell_type": "code",
      "execution_count": 5,
      "metadata": {
        "colab": {
          "base_uri": "https://localhost:8080/"
        },
        "id": "xUWW4zmQj_gA",
        "outputId": "efb72383-c4d3-4971-fb7c-6ecf0868f528"
      },
      "outputs": [
        {
          "output_type": "stream",
          "name": "stdout",
          "text": [
            "the 0.418 0.24968 -0.41242 0.1217 0.34527 -0.044457 -0.49688 -0.17862 -0.00066023 -0.6566 0.27843 -0\n"
          ]
        }
      ],
      "source": [
        "print(data.read(100))"
      ]
    },
    {
      "cell_type": "code",
      "execution_count": 6,
      "metadata": {
        "id": "SOml-4vGkROG"
      },
      "outputs": [],
      "source": [
        "# build and clean embeddings (only take lemmatized words, no punctuation in word, no numbers in word)\n",
        "embeddings = {}\n",
        "for word in data:\n",
        "  word_vec = word.split()\n",
        "  if wnl().lemmatize(word_vec[0]) == word_vec[0] and all(char not in word_vec[0] for char in string.punctuation + '0123456789'):\n",
        "    embeddings[word_vec[0]] = np.asarray(word_vec[1:], dtype=np.float32)"
      ]
    },
    {
      "cell_type": "code",
      "source": [
        "# identify bad data (wrong shape)\n",
        "for key, val in embeddings.items():\n",
        "  if val.shape != (50,):\n",
        "    print(key)"
      ],
      "metadata": {
        "id": "IjPXQ7Awsjx0"
      },
      "execution_count": 7,
      "outputs": []
    },
    {
      "cell_type": "code",
      "source": [
        "len(embeddings)"
      ],
      "metadata": {
        "colab": {
          "base_uri": "https://localhost:8080/"
        },
        "id": "lQW-CFCeoUL4",
        "outputId": "82e3a09c-03da-487a-872b-c9419345e3c2"
      },
      "execution_count": 8,
      "outputs": [
        {
          "output_type": "execute_result",
          "data": {
            "text/plain": [
              "307535"
            ]
          },
          "metadata": {},
          "execution_count": 8
        }
      ]
    },
    {
      "cell_type": "code",
      "execution_count": 9,
      "metadata": {
        "colab": {
          "base_uri": "https://localhost:8080/"
        },
        "id": "MPat06NYn65B",
        "outputId": "11853db3-95c8-4e5d-c7a6-636ad24b7696"
      },
      "outputs": [
        {
          "output_type": "execute_result",
          "data": {
            "text/plain": [
              "True"
            ]
          },
          "metadata": {},
          "execution_count": 9
        }
      ],
      "source": [
        "embeddings['a'].shape == (50,)"
      ]
    },
    {
      "cell_type": "code",
      "execution_count": 10,
      "metadata": {
        "id": "rZgtQXYfrZej"
      },
      "outputs": [],
      "source": [
        "def contexto(word, similarity, num_words=15):\n",
        "  \"\"\"\n",
        "  Prints the top num_words most similar words to the word inputted, using one of\n",
        "  three vector similarity metrics.\n",
        "\n",
        "  word: the term that the other words similarities are ranked on\n",
        "  similarity: the similarity metric to use: one of dot product, euclidean\n",
        "  distance, or cosine similarity\n",
        "  num_words: the number of similar words to show in the ranking\n",
        "  \"\"\"\n",
        "  lem_word = wnl().lemmatize(word)\n",
        "  if lem_word not in embeddings.keys():\n",
        "    print(f'{lem_word} does not have an embedding')\n",
        "    return\n",
        "  if num_words > len(embeddings):\n",
        "    print(f'num_words is greater than the number of embeddings! choose a num_words <= {len(embeddings)}')\n",
        "    return\n",
        "\n",
        "  if similarity == 'dot':\n",
        "    sorted_words = sorted(embeddings.keys(), reverse=True, key=lambda word1: np.dot(embeddings[word1], embeddings[word]))\n",
        "  elif similarity == 'euclidean':\n",
        "    sorted_words = sorted(embeddings.keys(), key=lambda word1: spatial.distance.euclidean(embeddings[word1], embeddings[word]))\n",
        "  elif similarity == 'cosine':\n",
        "    sorted_words = sorted(embeddings.keys(), reverse=True, key=lambda word1: np.dot(embeddings[word1], embeddings[word])/(norm(embeddings[word1])*norm(embeddings[word])))\n",
        "  else:\n",
        "    print(f'{similarity} is not one of dot, euclidean, or cosine')\n",
        "    return\n",
        "\n",
        "  print(f'The top {num_words} most similar words to {lem_word}:')\n",
        "  for i in range(1, num_words+1):\n",
        "    print(f'{i}. {sorted_words[i]}')\n",
        "  return"
      ]
    },
    {
      "cell_type": "code",
      "execution_count": 11,
      "metadata": {
        "colab": {
          "base_uri": "https://localhost:8080/"
        },
        "id": "yWSvf_9MsWOS",
        "outputId": "51436a16-6587-4262-8a51-65325cf77af5"
      },
      "outputs": [
        {
          "output_type": "stream",
          "name": "stdout",
          "text": [
            "the does not have an embedding\n"
          ]
        }
      ],
      "source": [
        "contexto('the', 'euclidean')"
      ]
    },
    {
      "cell_type": "code",
      "source": [
        "contexto('a', 'euclidean', 1000000)"
      ],
      "metadata": {
        "colab": {
          "base_uri": "https://localhost:8080/"
        },
        "id": "2JGoZMkrx2ZF",
        "outputId": "57aede8c-abca-4e3c-c4ba-98b4350a89eb"
      },
      "execution_count": 12,
      "outputs": [
        {
          "output_type": "stream",
          "name": "stdout",
          "text": [
            "num_words is greater than the number of embeddings! choose a num_words <= 307535\n"
          ]
        }
      ]
    },
    {
      "cell_type": "code",
      "execution_count": 13,
      "metadata": {
        "colab": {
          "base_uri": "https://localhost:8080/"
        },
        "id": "XyijpDpiuD8w",
        "outputId": "4d6ef0ac-af6b-4eab-9a4f-91496d93ab11"
      },
      "outputs": [
        {
          "output_type": "stream",
          "name": "stdout",
          "text": [
            "The top 15 most similar words to contract:\n",
            "1. deal\n",
            "2. signed\n",
            "3. signing\n",
            "4. option\n",
            "5. sale\n",
            "6. purchase\n",
            "7. lease\n",
            "8. expired\n",
            "9. agreeing\n",
            "10. transfer\n",
            "11. for\n",
            "12. acquisition\n",
            "13. considering\n",
            "14. terminated\n",
            "15. agreed\n"
          ]
        }
      ],
      "source": [
        "contexto('contract', 'euclidean', 15)"
      ]
    },
    {
      "cell_type": "code",
      "execution_count": 14,
      "metadata": {
        "colab": {
          "base_uri": "https://localhost:8080/"
        },
        "id": "duF6KWQRw6aK",
        "outputId": "0db9685e-f6b6-4e36-e171-b00861e5ffd2"
      },
      "outputs": [
        {
          "output_type": "stream",
          "name": "stdout",
          "text": [
            "The top 15 most similar words to bicycle:\n",
            "1. bike\n",
            "2. motorcycle\n",
            "3. car\n",
            "4. truck\n",
            "5. driver\n",
            "6. bus\n",
            "7. wheel\n",
            "8. cart\n",
            "9. vehicle\n",
            "10. passenger\n",
            "11. motorized\n",
            "12. riding\n",
            "13. biking\n",
            "14. racing\n",
            "15. motorbike\n"
          ]
        }
      ],
      "source": [
        "contexto('bicycle', 'dot', 15)"
      ]
    },
    {
      "cell_type": "code",
      "source": [
        "contexto('contract', 'cosine', 15)"
      ],
      "metadata": {
        "colab": {
          "base_uri": "https://localhost:8080/"
        },
        "id": "TW89JuS8clvZ",
        "outputId": "b414a09f-53f1-4282-bff6-1608c9d40859"
      },
      "execution_count": 15,
      "outputs": [
        {
          "output_type": "stream",
          "name": "stdout",
          "text": [
            "The top 15 most similar words to contract:\n",
            "1. deal\n",
            "2. signed\n",
            "3. signing\n",
            "4. option\n",
            "5. agreement\n",
            "6. lease\n",
            "7. sale\n",
            "8. loan\n",
            "9. purchase\n",
            "10. expired\n",
            "11. for\n",
            "12. transfer\n",
            "13. acquisition\n",
            "14. agreed\n",
            "15. payment\n"
          ]
        }
      ]
    },
    {
      "cell_type": "code",
      "source": [
        "# next stuff can do: visualizations (to explain why euclidean and cosine are similar and dot isn't)"
      ],
      "metadata": {
        "id": "FxMvSMW88A3P"
      },
      "execution_count": 16,
      "outputs": []
    },
    {
      "cell_type": "code",
      "source": [
        "tSNE = TSNE(n_components=2, random_state=0, perplexity=5)\n",
        "words = ['boy', 'girl', 'man', 'woman', 'grandpa', 'grandma', 'aunt', 'uncle', 'father', 'mother', 'male', 'female']\n",
        "vectors = np.array([embeddings[word] for word in words])\n",
        "Y = tSNE.fit_transform(vectors)"
      ],
      "metadata": {
        "id": "C9upfJnLZ3mr"
      },
      "execution_count": 41,
      "outputs": []
    },
    {
      "cell_type": "code",
      "source": [
        "plt.scatter(Y[:, 0], Y[:, 1])\n",
        "for label, x, y in zip(words, Y[:, 0], Y[:, 1]):\n",
        "    plt.annotate(label, xy=(x, y), xytext=(0, 0), textcoords=\"offset points\")\n",
        "plt.show()"
      ],
      "metadata": {
        "colab": {
          "base_uri": "https://localhost:8080/",
          "height": 430
        },
        "id": "G8MDRcKzb_Py",
        "outputId": "25cc38eb-ae92-420a-ac6f-fc44a02971d3"
      },
      "execution_count": 42,
      "outputs": [
        {
          "output_type": "display_data",
          "data": {
            "text/plain": [
              "<Figure size 640x480 with 1 Axes>"
            ],
            "image/png": "[encoded data removed]"
          },
          "metadata": {}
        }
      ]
    },
    {
      "cell_type": "code",
      "source": [
        "contexto('male', 'cosine', 15)"
      ],
      "metadata": {
        "colab": {
          "base_uri": "https://localhost:8080/"
        },
        "id": "TZdY223eevCX",
        "outputId": "93b0b546-7a54-4a7a-b833-e55b56cc5359"
      },
      "execution_count": 43,
      "outputs": [
        {
          "output_type": "stream",
          "name": "stdout",
          "text": [
            "The top 15 most similar words to male:\n",
            "1. female\n",
            "2. adult\n",
            "3. young\n",
            "4. woman\n",
            "5. age\n",
            "6. older\n",
            "7. child\n",
            "8. men\n",
            "9. sex\n",
            "10. offspring\n",
            "11. girl\n",
            "12. blind\n",
            "13. teenage\n",
            "14. person\n",
            "15. unmarried\n"
          ]
        }
      ]
    }
  ],
  "metadata": {
    "colab": {
      "gpuType": "T4",
      "provenance": [],
      "toc_visible": true,
      "authorship_tag": "ABX9TyOdYg3eCFbY2ZqiURN6Q3O6",
      "include_colab_link": true
    },
    "kernelspec": {
      "display_name": "Python 3",
      "name": "python3"
    },
    "language_info": {
      "name": "python"
    }
  },
  "nbformat": 4,
  "nbformat_minor": 0
}