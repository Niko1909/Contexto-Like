{
  "cells": [
    {
      "cell_type": "markdown",
      "metadata": {
        "id": "view-in-github",
        "colab_type": "text"
      },
      "source": [
        "<a href=\"https://colab.research.google.com/github/Niko1909/Contexto-Like/blob/main/contexto.ipynb\" target=\"_parent\"><img src=\"https://colab.research.google.com/assets/colab-badge.svg\" alt=\"Open In Colab\"/></a>"
      ]
    },
    {
      "cell_type": "code",
      "execution_count": 3,
      "metadata": {
        "colab": {
          "base_uri": "https://localhost:8080/"
        },
        "id": "H19TSU5UgCZw",
        "outputId": "3cb6969e-3cb0-482f-972a-8a0fa3286c7b"
      },
      "outputs": [
        {
          "output_type": "stream",
          "name": "stderr",
          "text": [
            "[nltk_data] Downloading package wordnet to /root/nltk_data...\n",
            "[nltk_data]   Package wordnet is already up-to-date!\n"
          ]
        },
        {
          "output_type": "execute_result",
          "data": {
            "text/plain": [
              "True"
            ]
          },
          "metadata": {},
          "execution_count": 3
        }
      ],
      "source": [
        "import string\n",
        "import numpy as np\n",
        "from numpy.linalg import norm\n",
        "from scipy import spatial\n",
        "import matplotlib.pyplot as plt\n",
        "from sklearn.manifold import TSNE\n",
        "import nltk\n",
        "from nltk.stem import WordNetLemmatizer as wnl\n",
        "nltk.download('wordnet')"
      ]
    },
    {
      "cell_type": "code",
      "execution_count": 4,
      "metadata": {
        "id": "iq4Jrti_h7U1"
      },
      "outputs": [],
      "source": [
        "data = open('/content/glove.6B.50d.txt', 'r') # 50-dim GloVe word vectors"
      ]
    },
    {
      "cell_type": "code",
      "execution_count": 5,
      "metadata": {
        "colab": {
          "base_uri": "https://localhost:8080/"
        },
        "id": "xUWW4zmQj_gA",
        "outputId": "3465a6a1-a36e-4a14-e56f-005aca85c71d"
      },
      "outputs": [
        {
          "output_type": "stream",
          "name": "stdout",
          "text": [
            "the 0.418 0.24968 -0.41242 0.1217 0.34527 -0.044457 -0.49688 -0.17862 -0.00066023 -0.6566 0.27843 -0\n"
          ]
        }
      ],
      "source": [
        "print(data.read(100))"
      ]
    },
    {
      "cell_type": "code",
      "execution_count": 6,
      "metadata": {
        "id": "SOml-4vGkROG"
      },
      "outputs": [],
      "source": [
        "# build and clean embeddings (only take lemmatized words, no punctuation in word, no numbers in word)\n",
        "embeddings = {}\n",
        "for word in data:\n",
        "  word_vec = word.split()\n",
        "  if wnl().lemmatize(word_vec[0]) == word_vec[0] and all(char not in word_vec[0] for char in string.punctuation + '0123456789'):\n",
        "    embeddings[word_vec[0]] = np.asarray(word_vec[1:], dtype=np.float32)"
      ]
    },
    {
      "cell_type": "code",
      "source": [
        "# identify bad data (wrong shape)\n",
        "for key, val in embeddings.items():\n",
        "  if val.shape != (50,):\n",
        "    print(key)"
      ],
      "metadata": {
        "id": "IjPXQ7Awsjx0"
      },
      "execution_count": 7,
      "outputs": []
    },
    {
      "cell_type": "code",
      "source": [
        "len(embeddings)"
      ],
      "metadata": {
        "colab": {
          "base_uri": "https://localhost:8080/"
        },
        "id": "lQW-CFCeoUL4",
        "outputId": "ae009035-4129-4956-d0a5-9df3ead4a0ee"
      },
      "execution_count": 8,
      "outputs": [
        {
          "output_type": "execute_result",
          "data": {
            "text/plain": [
              "307535"
            ]
          },
          "metadata": {},
          "execution_count": 8
        }
      ]
    },
    {
      "cell_type": "code",
      "execution_count": 9,
      "metadata": {
        "colab": {
          "base_uri": "https://localhost:8080/"
        },
        "id": "MPat06NYn65B",
        "outputId": "cef32407-9277-4429-cb35-7e8a3b176318"
      },
      "outputs": [
        {
          "output_type": "execute_result",
          "data": {
            "text/plain": [
              "True"
            ]
          },
          "metadata": {},
          "execution_count": 9
        }
      ],
      "source": [
        "embeddings['a'].shape == (50,)"
      ]
    },
    {
      "cell_type": "code",
      "execution_count": 18,
      "metadata": {
        "id": "rZgtQXYfrZej"
      },
      "outputs": [],
      "source": [
        "def contexto(word, similarity, num_words=15):\n",
        "  \"\"\"\n",
        "  Prints the top num_words most similar words to the word inputted, using one of\n",
        "  three vector similarity metrics.\n",
        "\n",
        "  word: the term that the other words similarities are ranked on\n",
        "  similarity: the similarity metric to use: one of dot product, euclidean\n",
        "  distance, or cosine similarity\n",
        "  num_words: the number of similar words to show in the ranking\n",
        "  \"\"\"\n",
        "  lem_word = wnl().lemmatize(word)\n",
        "  if lem_word not in embeddings.keys():\n",
        "    print(f'{lem_word} does not have an embedding')\n",
        "    return\n",
        "  if num_words > len(embeddings):\n",
        "    print(f'num_words is greater than the number of embeddings! choose a num_words <= {len(embeddings)}')\n",
        "    return\n",
        "\n",
        "  if similarity == 'dot':\n",
        "    sorted_words = sorted(embeddings.keys(), reverse=True, key=lambda word1: np.dot(embeddings[word1], embeddings[word]))\n",
        "  elif similarity == 'euclidean':\n",
        "    sorted_words = sorted(embeddings.keys(), key=lambda word1: spatial.distance.euclidean(embeddings[word1], embeddings[word]))\n",
        "  elif similarity == 'cosine':\n",
        "    sorted_words = sorted(embeddings.keys(), reverse=True, key=lambda word1: np.dot(embeddings[word1], embeddings[word])/(norm(embeddings[word1])*norm(embeddings[word])))\n",
        "  else:\n",
        "    print(f'{similarity} is not one of dot, euclidean, or cosine')\n",
        "    return\n",
        "\n",
        "  print(f'The top {num_words} most similar words to {lem_word}:')\n",
        "  for i in range(1, num_words+1):\n",
        "    print(f'{i}. {sorted_words[i]}')\n",
        "  return"
      ]
    },
    {
      "cell_type": "code",
      "execution_count": 11,
      "metadata": {
        "colab": {
          "base_uri": "https://localhost:8080/"
        },
        "id": "yWSvf_9MsWOS",
        "outputId": "fa041325-f8ec-43ff-9307-aa437869b19c"
      },
      "outputs": [
        {
          "output_type": "stream",
          "name": "stdout",
          "text": [
            "the does not have an embedding\n"
          ]
        }
      ],
      "source": [
        "contexto('the', 'euclidean')"
      ]
    },
    {
      "cell_type": "code",
      "source": [
        "contexto('a', 'euclidean', 1000000)"
      ],
      "metadata": {
        "colab": {
          "base_uri": "https://localhost:8080/"
        },
        "id": "2JGoZMkrx2ZF",
        "outputId": "0c07bb4a-9a36-46cd-c8db-0d4d8d0a32a1"
      },
      "execution_count": 12,
      "outputs": [
        {
          "output_type": "stream",
          "name": "stdout",
          "text": [
            "num_words is greater than the number of embeddings! choose a num_words <= 307535\n"
          ]
        }
      ]
    },
    {
      "cell_type": "code",
      "execution_count": 13,
      "metadata": {
        "colab": {
          "base_uri": "https://localhost:8080/"
        },
        "id": "XyijpDpiuD8w",
        "outputId": "4c9db184-564f-4e79-9ea1-373f184073ef"
      },
      "outputs": [
        {
          "output_type": "stream",
          "name": "stdout",
          "text": [
            "The top 15 most similar words to fish:\n",
            "1. salmon\n",
            "2. shrimp\n",
            "3. meat\n",
            "4. bird\n",
            "5. wild\n",
            "6. seafood\n",
            "7. shellfish\n",
            "8. crab\n",
            "9. tuna\n",
            "10. trout\n",
            "11. animal\n",
            "12. eat\n",
            "13. eaten\n",
            "14. chicken\n",
            "15. herring\n"
          ]
        }
      ],
      "source": [
        "contexto('fish', 'euclidean', 15)"
      ]
    },
    {
      "cell_type": "code",
      "execution_count": 14,
      "metadata": {
        "colab": {
          "base_uri": "https://localhost:8080/"
        },
        "id": "duF6KWQRw6aK",
        "outputId": "42fc6d81-b107-4bc3-f8a7-be6994dba036"
      },
      "outputs": [
        {
          "output_type": "stream",
          "name": "stdout",
          "text": [
            "The top 15 most similar words to fish:\n",
            "1. meat\n",
            "2. shrimp\n",
            "3. eat\n",
            "4. freshwater\n",
            "5. salmon\n",
            "6. chicken\n",
            "7. tuna\n",
            "8. bacteria\n",
            "9. water\n",
            "10. seafood\n",
            "11. fishing\n",
            "12. cyprinid\n",
            "13. trout\n",
            "14. poultry\n",
            "15. sea\n"
          ]
        }
      ],
      "source": [
        "contexto('fish', 'dot', 15)"
      ]
    },
    {
      "cell_type": "code",
      "source": [
        "contexto('fish', 'cosine', 15)"
      ],
      "metadata": {
        "colab": {
          "base_uri": "https://localhost:8080/"
        },
        "id": "TW89JuS8clvZ",
        "outputId": "4f11af24-47e0-44a7-e4f4-71026f0a4d40"
      },
      "execution_count": 15,
      "outputs": [
        {
          "output_type": "stream",
          "name": "stdout",
          "text": [
            "The top 15 most similar words to fish:\n",
            "1. salmon\n",
            "2. meat\n",
            "3. shrimp\n",
            "4. bird\n",
            "5. wild\n",
            "6. eat\n",
            "7. seafood\n",
            "8. tuna\n",
            "9. shellfish\n",
            "10. chicken\n",
            "11. crab\n",
            "12. trout\n",
            "13. eaten\n",
            "14. animal\n",
            "15. whale\n"
          ]
        }
      ]
    },
    {
      "cell_type": "code",
      "source": [
        "all(char not in \".',\" for char in 'test')"
      ],
      "metadata": {
        "colab": {
          "base_uri": "https://localhost:8080/"
        },
        "id": "w32rUYmHtGem",
        "outputId": "6859f6ef-35f7-4603-d43d-d1edbf73d331"
      },
      "execution_count": 16,
      "outputs": [
        {
          "output_type": "execute_result",
          "data": {
            "text/plain": [
              "True"
            ]
          },
          "metadata": {},
          "execution_count": 16
        }
      ]
    }
  ],
  "metadata": {
    "colab": {
      "gpuType": "T4",
      "provenance": [],
      "authorship_tag": "ABX9TyOCHy2Jm2+Lx/gCoDNa4nAl",
      "include_colab_link": true
    },
    "kernelspec": {
      "display_name": "Python 3",
      "name": "python3"
    },
    "language_info": {
      "name": "python"
    }
  },
  "nbformat": 4,
  "nbformat_minor": 0
}